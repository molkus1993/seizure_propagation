{
 "cells": [
  {
   "cell_type": "code",
   "execution_count": 1,
   "id": "866bf601-19d8-42a8-8ec4-0c21fc8c831e",
   "metadata": {},
   "outputs": [],
   "source": [
    "class parameters:\n",
    "    t0 = None\n",
    "    tmax = None\n",
    "    x0 = None\n",
    "     \n",
    "    def __init__(self):\n",
    "        self.t0 = 0"
   ]
  },
  {
   "cell_type": "code",
   "execution_count": null,
   "id": "2788a4d0-d99f-4faf-a1c7-09c7985a04f9",
   "metadata": {},
   "outputs": [],
   "source": []
  }
 ],
 "metadata": {
  "kernelspec": {
   "display_name": "Python 3",
   "language": "python",
   "name": "python3"
  },
  "language_info": {
   "codemirror_mode": {
    "name": "ipython",
    "version": 3
   },
   "file_extension": ".py",
   "mimetype": "text/x-python",
   "name": "python",
   "nbconvert_exporter": "python",
   "pygments_lexer": "ipython3",
   "version": "3.8.8"
  }
 },
 "nbformat": 4,
 "nbformat_minor": 5
}
